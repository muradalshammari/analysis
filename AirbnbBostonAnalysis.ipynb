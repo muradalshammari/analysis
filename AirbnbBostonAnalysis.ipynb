{
 "cells": [
  {
   "cell_type": "markdown",
   "metadata": {},
   "source": [
    "<h1>AirBnB Boston Analysis</h1>\n",
    "\n",
    "<br>\n",
    "\n",
    "<p>For this analysis I will answer the following 3 questions:</p>\n",
    "<ul>\n",
    "  <li>What are the price distributions for each type of room? </li>\n",
    "  <li>What are the features that highly correlate to price? </li>\n",
    "  <li>What are the most expensive zipcodes in Boston?</li>\n",
    "</ul>    \n",
    "\n",
    "<p> This notebook will follow the CRISP - DM process</p>\n"
   ]
  },
  {
   "cell_type": "code",
   "execution_count": 1,
   "metadata": {},
   "outputs": [],
   "source": [
    "import pandas as pd\n",
    "import numpy as np\n",
    "%matplotlib inline\n",
    "import matplotlib.pyplot as plt\n",
    "import seaborn as sns\n",
    "# Notebook options\n",
    "pd.options.display.max_rows = 99999\n",
    "pd.options.display.max_columns = 99999\n",
    "pd.options.display.float_format = '{:20,.3f}'.format"
   ]
  },
  {
   "cell_type": "markdown",
   "metadata": {},
   "source": [
    "## Get the data"
   ]
  },
  {
   "cell_type": "markdown",
   "metadata": {},
   "source": [
    "<p>In this first section of the notebook we will get the data which will be used for the analysis. \n",
    "The data comes from CSV sources. Lets look at each one of these more closely to see which one we will use for our analysis.</p>"
   ]
  },
  {
   "cell_type": "code",
   "execution_count": 2,
   "metadata": {},
   "outputs": [],
   "source": [
    "path_to_data = \"/Users/dgrijalva/udacity/DataScience/Projects/BlogPost/boston-airbnb-open-data\""
   ]
  },
  {
   "cell_type": "code",
   "execution_count": 3,
   "metadata": {},
   "outputs": [],
   "source": [
    "calendar = pd.read_csv('{}/calendar.csv'.format(path_to_data))\n",
    "listings = pd.read_csv('{}/listings.csv'.format(path_to_data))\n",
    "reviews = pd.read_csv('{}/reviews.csv'.format(path_to_data))"
   ]
  },
  {
   "cell_type": "code",
   "execution_count": 4,
   "metadata": {},
   "outputs": [
    {
     "data": {
      "text/html": [
       "<div>\n",
       "<style scoped>\n",
       "    .dataframe tbody tr th:only-of-type {\n",
       "        vertical-align: middle;\n",
       "    }\n",
       "\n",
       "    .dataframe tbody tr th {\n",
       "        vertical-align: top;\n",
       "    }\n",
       "\n",
       "    .dataframe thead th {\n",
       "        text-align: right;\n",
       "    }\n",
       "</style>\n",
       "<table border=\"1\" class=\"dataframe\">\n",
       "  <thead>\n",
       "    <tr style=\"text-align: right;\">\n",
       "      <th></th>\n",
       "      <th>id</th>\n",
       "      <th>listing_url</th>\n",
       "      <th>scrape_id</th>\n",
       "      <th>last_scraped</th>\n",
       "      <th>name</th>\n",
       "      <th>summary</th>\n",
       "      <th>space</th>\n",
       "      <th>description</th>\n",
       "      <th>experiences_offered</th>\n",
       "      <th>neighborhood_overview</th>\n",
       "      <th>notes</th>\n",
       "      <th>transit</th>\n",
       "      <th>access</th>\n",
       "      <th>interaction</th>\n",
       "      <th>house_rules</th>\n",
       "      <th>thumbnail_url</th>\n",
       "      <th>medium_url</th>\n",
       "      <th>picture_url</th>\n",
       "      <th>xl_picture_url</th>\n",
       "      <th>host_id</th>\n",
       "      <th>host_url</th>\n",
       "      <th>host_name</th>\n",
       "      <th>host_since</th>\n",
       "      <th>host_location</th>\n",
       "      <th>host_about</th>\n",
       "      <th>host_response_time</th>\n",
       "      <th>host_response_rate</th>\n",
       "      <th>host_acceptance_rate</th>\n",
       "      <th>host_is_superhost</th>\n",
       "      <th>host_thumbnail_url</th>\n",
       "      <th>host_picture_url</th>\n",
       "      <th>host_neighbourhood</th>\n",
       "      <th>host_listings_count</th>\n",
       "      <th>host_total_listings_count</th>\n",
       "      <th>host_verifications</th>\n",
       "      <th>host_has_profile_pic</th>\n",
       "      <th>host_identity_verified</th>\n",
       "      <th>street</th>\n",
       "      <th>neighbourhood</th>\n",
       "      <th>neighbourhood_cleansed</th>\n",
       "      <th>neighbourhood_group_cleansed</th>\n",
       "      <th>city</th>\n",
       "      <th>state</th>\n",
       "      <th>zipcode</th>\n",
       "      <th>market</th>\n",
       "      <th>smart_location</th>\n",
       "      <th>country_code</th>\n",
       "      <th>country</th>\n",
       "      <th>latitude</th>\n",
       "      <th>longitude</th>\n",
       "      <th>is_location_exact</th>\n",
       "      <th>property_type</th>\n",
       "      <th>room_type</th>\n",
       "      <th>accommodates</th>\n",
       "      <th>bathrooms</th>\n",
       "      <th>bedrooms</th>\n",
       "      <th>beds</th>\n",
       "      <th>bed_type</th>\n",
       "      <th>amenities</th>\n",
       "      <th>square_feet</th>\n",
       "      <th>price</th>\n",
       "      <th>weekly_price</th>\n",
       "      <th>monthly_price</th>\n",
       "      <th>security_deposit</th>\n",
       "      <th>cleaning_fee</th>\n",
       "      <th>guests_included</th>\n",
       "      <th>extra_people</th>\n",
       "      <th>minimum_nights</th>\n",
       "      <th>maximum_nights</th>\n",
       "      <th>calendar_updated</th>\n",
       "      <th>has_availability</th>\n",
       "      <th>availability_30</th>\n",
       "      <th>availability_60</th>\n",
       "      <th>availability_90</th>\n",
       "      <th>availability_365</th>\n",
       "      <th>calendar_last_scraped</th>\n",
       "      <th>number_of_reviews</th>\n",
       "      <th>first_review</th>\n",
       "      <th>last_review</th>\n",
       "      <th>review_scores_rating</th>\n",
       "      <th>review_scores_accuracy</th>\n",
       "      <th>review_scores_cleanliness</th>\n",
       "      <th>review_scores_checkin</th>\n",
       "      <th>review_scores_communication</th>\n",
       "      <th>review_scores_location</th>\n",
       "      <th>review_scores_value</th>\n",
       "      <th>requires_license</th>\n",
       "      <th>license</th>\n",
       "      <th>jurisdiction_names</th>\n",
       "      <th>instant_bookable</th>\n",
       "      <th>cancellation_policy</th>\n",
       "      <th>require_guest_profile_picture</th>\n",
       "      <th>require_guest_phone_verification</th>\n",
       "      <th>calculated_host_listings_count</th>\n",
       "      <th>reviews_per_month</th>\n",
       "    </tr>\n",
       "  </thead>\n",
       "  <tbody>\n",
       "    <tr>\n",
       "      <th>0</th>\n",
       "      <td>12147973</td>\n",
       "      <td>https://www.airbnb.com/rooms/12147973</td>\n",
       "      <td>20160906204935</td>\n",
       "      <td>2016-09-07</td>\n",
       "      <td>Sunny Bungalow in the City</td>\n",
       "      <td>Cozy, sunny, family home.  Master bedroom high...</td>\n",
       "      <td>The house has an open and cozy feel at the sam...</td>\n",
       "      <td>Cozy, sunny, family home.  Master bedroom high...</td>\n",
       "      <td>none</td>\n",
       "      <td>Roslindale is quiet, convenient and friendly. ...</td>\n",
       "      <td>NaN</td>\n",
       "      <td>The bus stop is 2 blocks away, and frequent. B...</td>\n",
       "      <td>You will have access to 2 bedrooms, a living r...</td>\n",
       "      <td>NaN</td>\n",
       "      <td>Clean up and treat the home the way you'd like...</td>\n",
       "      <td>https://a2.muscache.com/im/pictures/c0842db1-e...</td>\n",
       "      <td>https://a2.muscache.com/im/pictures/c0842db1-e...</td>\n",
       "      <td>https://a2.muscache.com/im/pictures/c0842db1-e...</td>\n",
       "      <td>https://a2.muscache.com/im/pictures/c0842db1-e...</td>\n",
       "      <td>31303940</td>\n",
       "      <td>https://www.airbnb.com/users/show/31303940</td>\n",
       "      <td>Virginia</td>\n",
       "      <td>2015-04-15</td>\n",
       "      <td>Boston, Massachusetts, United States</td>\n",
       "      <td>We are country and city connecting in our deck...</td>\n",
       "      <td>NaN</td>\n",
       "      <td>NaN</td>\n",
       "      <td>NaN</td>\n",
       "      <td>f</td>\n",
       "      <td>https://a2.muscache.com/im/pictures/5936fef0-b...</td>\n",
       "      <td>https://a2.muscache.com/im/pictures/5936fef0-b...</td>\n",
       "      <td>Roslindale</td>\n",
       "      <td>1</td>\n",
       "      <td>1</td>\n",
       "      <td>['email', 'phone', 'facebook', 'reviews']</td>\n",
       "      <td>t</td>\n",
       "      <td>f</td>\n",
       "      <td>Birch Street, Boston, MA 02131, United States</td>\n",
       "      <td>Roslindale</td>\n",
       "      <td>Roslindale</td>\n",
       "      <td>nan</td>\n",
       "      <td>Boston</td>\n",
       "      <td>MA</td>\n",
       "      <td>02131</td>\n",
       "      <td>Boston</td>\n",
       "      <td>Boston, MA</td>\n",
       "      <td>US</td>\n",
       "      <td>United States</td>\n",
       "      <td>42.283</td>\n",
       "      <td>-71.133</td>\n",
       "      <td>t</td>\n",
       "      <td>House</td>\n",
       "      <td>Entire home/apt</td>\n",
       "      <td>4</td>\n",
       "      <td>1.500</td>\n",
       "      <td>2.000</td>\n",
       "      <td>3.000</td>\n",
       "      <td>Real Bed</td>\n",
       "      <td>{TV,\"Wireless Internet\",Kitchen,\"Free Parking ...</td>\n",
       "      <td>nan</td>\n",
       "      <td>$250.00</td>\n",
       "      <td>NaN</td>\n",
       "      <td>NaN</td>\n",
       "      <td>NaN</td>\n",
       "      <td>$35.00</td>\n",
       "      <td>1</td>\n",
       "      <td>$0.00</td>\n",
       "      <td>2</td>\n",
       "      <td>1125</td>\n",
       "      <td>2 weeks ago</td>\n",
       "      <td>nan</td>\n",
       "      <td>0</td>\n",
       "      <td>0</td>\n",
       "      <td>0</td>\n",
       "      <td>0</td>\n",
       "      <td>2016-09-06</td>\n",
       "      <td>0</td>\n",
       "      <td>NaN</td>\n",
       "      <td>NaN</td>\n",
       "      <td>nan</td>\n",
       "      <td>nan</td>\n",
       "      <td>nan</td>\n",
       "      <td>nan</td>\n",
       "      <td>nan</td>\n",
       "      <td>nan</td>\n",
       "      <td>nan</td>\n",
       "      <td>f</td>\n",
       "      <td>nan</td>\n",
       "      <td>nan</td>\n",
       "      <td>f</td>\n",
       "      <td>moderate</td>\n",
       "      <td>f</td>\n",
       "      <td>f</td>\n",
       "      <td>1</td>\n",
       "      <td>nan</td>\n",
       "    </tr>\n",
       "    <tr>\n",
       "      <th>1</th>\n",
       "      <td>3075044</td>\n",
       "      <td>https://www.airbnb.com/rooms/3075044</td>\n",
       "      <td>20160906204935</td>\n",
       "      <td>2016-09-07</td>\n",
       "      <td>Charming room in pet friendly apt</td>\n",
       "      <td>Charming and quiet room in a second floor 1910...</td>\n",
       "      <td>Small but cozy and quite room with a full size...</td>\n",
       "      <td>Charming and quiet room in a second floor 1910...</td>\n",
       "      <td>none</td>\n",
       "      <td>The room is in Roslindale, a diverse and prima...</td>\n",
       "      <td>If you don't have a US cell phone, you can tex...</td>\n",
       "      <td>Plenty of safe street parking. Bus stops a few...</td>\n",
       "      <td>Apt has one more bedroom (which I use) and lar...</td>\n",
       "      <td>If I am at home, I am likely working in my hom...</td>\n",
       "      <td>Pet friendly but please confirm with me if the...</td>\n",
       "      <td>https://a1.muscache.com/im/pictures/39327812/d...</td>\n",
       "      <td>https://a1.muscache.com/im/pictures/39327812/d...</td>\n",
       "      <td>https://a1.muscache.com/im/pictures/39327812/d...</td>\n",
       "      <td>https://a1.muscache.com/im/pictures/39327812/d...</td>\n",
       "      <td>2572247</td>\n",
       "      <td>https://www.airbnb.com/users/show/2572247</td>\n",
       "      <td>Andrea</td>\n",
       "      <td>2012-06-07</td>\n",
       "      <td>Boston, Massachusetts, United States</td>\n",
       "      <td>I live in Boston and I like to travel and have...</td>\n",
       "      <td>within an hour</td>\n",
       "      <td>100%</td>\n",
       "      <td>100%</td>\n",
       "      <td>f</td>\n",
       "      <td>https://a2.muscache.com/im/users/2572247/profi...</td>\n",
       "      <td>https://a2.muscache.com/im/users/2572247/profi...</td>\n",
       "      <td>Roslindale</td>\n",
       "      <td>1</td>\n",
       "      <td>1</td>\n",
       "      <td>['email', 'phone', 'facebook', 'linkedin', 'am...</td>\n",
       "      <td>t</td>\n",
       "      <td>t</td>\n",
       "      <td>Pinehurst Street, Boston, MA 02131, United States</td>\n",
       "      <td>Roslindale</td>\n",
       "      <td>Roslindale</td>\n",
       "      <td>nan</td>\n",
       "      <td>Boston</td>\n",
       "      <td>MA</td>\n",
       "      <td>02131</td>\n",
       "      <td>Boston</td>\n",
       "      <td>Boston, MA</td>\n",
       "      <td>US</td>\n",
       "      <td>United States</td>\n",
       "      <td>42.286</td>\n",
       "      <td>-71.134</td>\n",
       "      <td>t</td>\n",
       "      <td>Apartment</td>\n",
       "      <td>Private room</td>\n",
       "      <td>2</td>\n",
       "      <td>1.000</td>\n",
       "      <td>1.000</td>\n",
       "      <td>1.000</td>\n",
       "      <td>Real Bed</td>\n",
       "      <td>{TV,Internet,\"Wireless Internet\",\"Air Conditio...</td>\n",
       "      <td>nan</td>\n",
       "      <td>$65.00</td>\n",
       "      <td>$400.00</td>\n",
       "      <td>NaN</td>\n",
       "      <td>$95.00</td>\n",
       "      <td>$10.00</td>\n",
       "      <td>0</td>\n",
       "      <td>$0.00</td>\n",
       "      <td>2</td>\n",
       "      <td>15</td>\n",
       "      <td>a week ago</td>\n",
       "      <td>nan</td>\n",
       "      <td>26</td>\n",
       "      <td>54</td>\n",
       "      <td>84</td>\n",
       "      <td>359</td>\n",
       "      <td>2016-09-06</td>\n",
       "      <td>36</td>\n",
       "      <td>2014-06-01</td>\n",
       "      <td>2016-08-13</td>\n",
       "      <td>94.000</td>\n",
       "      <td>10.000</td>\n",
       "      <td>9.000</td>\n",
       "      <td>10.000</td>\n",
       "      <td>10.000</td>\n",
       "      <td>9.000</td>\n",
       "      <td>9.000</td>\n",
       "      <td>f</td>\n",
       "      <td>nan</td>\n",
       "      <td>nan</td>\n",
       "      <td>t</td>\n",
       "      <td>moderate</td>\n",
       "      <td>f</td>\n",
       "      <td>f</td>\n",
       "      <td>1</td>\n",
       "      <td>1.300</td>\n",
       "    </tr>\n",
       "  </tbody>\n",
       "</table>\n",
       "</div>"
      ],
      "text/plain": [
       "         id                            listing_url       scrape_id  \\\n",
       "0  12147973  https://www.airbnb.com/rooms/12147973  20160906204935   \n",
       "1   3075044   https://www.airbnb.com/rooms/3075044  20160906204935   \n",
       "\n",
       "  last_scraped                               name  \\\n",
       "0   2016-09-07         Sunny Bungalow in the City   \n",
       "1   2016-09-07  Charming room in pet friendly apt   \n",
       "\n",
       "                                             summary  \\\n",
       "0  Cozy, sunny, family home.  Master bedroom high...   \n",
       "1  Charming and quiet room in a second floor 1910...   \n",
       "\n",
       "                                               space  \\\n",
       "0  The house has an open and cozy feel at the sam...   \n",
       "1  Small but cozy and quite room with a full size...   \n",
       "\n",
       "                                         description experiences_offered  \\\n",
       "0  Cozy, sunny, family home.  Master bedroom high...                none   \n",
       "1  Charming and quiet room in a second floor 1910...                none   \n",
       "\n",
       "                               neighborhood_overview  \\\n",
       "0  Roslindale is quiet, convenient and friendly. ...   \n",
       "1  The room is in Roslindale, a diverse and prima...   \n",
       "\n",
       "                                               notes  \\\n",
       "0                                                NaN   \n",
       "1  If you don't have a US cell phone, you can tex...   \n",
       "\n",
       "                                             transit  \\\n",
       "0  The bus stop is 2 blocks away, and frequent. B...   \n",
       "1  Plenty of safe street parking. Bus stops a few...   \n",
       "\n",
       "                                              access  \\\n",
       "0  You will have access to 2 bedrooms, a living r...   \n",
       "1  Apt has one more bedroom (which I use) and lar...   \n",
       "\n",
       "                                         interaction  \\\n",
       "0                                                NaN   \n",
       "1  If I am at home, I am likely working in my hom...   \n",
       "\n",
       "                                         house_rules  \\\n",
       "0  Clean up and treat the home the way you'd like...   \n",
       "1  Pet friendly but please confirm with me if the...   \n",
       "\n",
       "                                       thumbnail_url  \\\n",
       "0  https://a2.muscache.com/im/pictures/c0842db1-e...   \n",
       "1  https://a1.muscache.com/im/pictures/39327812/d...   \n",
       "\n",
       "                                          medium_url  \\\n",
       "0  https://a2.muscache.com/im/pictures/c0842db1-e...   \n",
       "1  https://a1.muscache.com/im/pictures/39327812/d...   \n",
       "\n",
       "                                         picture_url  \\\n",
       "0  https://a2.muscache.com/im/pictures/c0842db1-e...   \n",
       "1  https://a1.muscache.com/im/pictures/39327812/d...   \n",
       "\n",
       "                                      xl_picture_url   host_id  \\\n",
       "0  https://a2.muscache.com/im/pictures/c0842db1-e...  31303940   \n",
       "1  https://a1.muscache.com/im/pictures/39327812/d...   2572247   \n",
       "\n",
       "                                     host_url host_name  host_since  \\\n",
       "0  https://www.airbnb.com/users/show/31303940  Virginia  2015-04-15   \n",
       "1   https://www.airbnb.com/users/show/2572247    Andrea  2012-06-07   \n",
       "\n",
       "                          host_location  \\\n",
       "0  Boston, Massachusetts, United States   \n",
       "1  Boston, Massachusetts, United States   \n",
       "\n",
       "                                          host_about host_response_time  \\\n",
       "0  We are country and city connecting in our deck...                NaN   \n",
       "1  I live in Boston and I like to travel and have...     within an hour   \n",
       "\n",
       "  host_response_rate host_acceptance_rate host_is_superhost  \\\n",
       "0                NaN                  NaN                 f   \n",
       "1               100%                 100%                 f   \n",
       "\n",
       "                                  host_thumbnail_url  \\\n",
       "0  https://a2.muscache.com/im/pictures/5936fef0-b...   \n",
       "1  https://a2.muscache.com/im/users/2572247/profi...   \n",
       "\n",
       "                                    host_picture_url host_neighbourhood  \\\n",
       "0  https://a2.muscache.com/im/pictures/5936fef0-b...         Roslindale   \n",
       "1  https://a2.muscache.com/im/users/2572247/profi...         Roslindale   \n",
       "\n",
       "   host_listings_count  host_total_listings_count  \\\n",
       "0                    1                          1   \n",
       "1                    1                          1   \n",
       "\n",
       "                                  host_verifications host_has_profile_pic  \\\n",
       "0          ['email', 'phone', 'facebook', 'reviews']                    t   \n",
       "1  ['email', 'phone', 'facebook', 'linkedin', 'am...                    t   \n",
       "\n",
       "  host_identity_verified                                             street  \\\n",
       "0                      f      Birch Street, Boston, MA 02131, United States   \n",
       "1                      t  Pinehurst Street, Boston, MA 02131, United States   \n",
       "\n",
       "  neighbourhood neighbourhood_cleansed  neighbourhood_group_cleansed    city  \\\n",
       "0    Roslindale             Roslindale                           nan  Boston   \n",
       "1    Roslindale             Roslindale                           nan  Boston   \n",
       "\n",
       "  state zipcode  market smart_location country_code        country  \\\n",
       "0    MA   02131  Boston     Boston, MA           US  United States   \n",
       "1    MA   02131  Boston     Boston, MA           US  United States   \n",
       "\n",
       "              latitude            longitude is_location_exact property_type  \\\n",
       "0               42.283              -71.133                 t         House   \n",
       "1               42.286              -71.134                 t     Apartment   \n",
       "\n",
       "         room_type  accommodates            bathrooms             bedrooms  \\\n",
       "0  Entire home/apt             4                1.500                2.000   \n",
       "1     Private room             2                1.000                1.000   \n",
       "\n",
       "                  beds  bed_type  \\\n",
       "0                3.000  Real Bed   \n",
       "1                1.000  Real Bed   \n",
       "\n",
       "                                           amenities          square_feet  \\\n",
       "0  {TV,\"Wireless Internet\",Kitchen,\"Free Parking ...                  nan   \n",
       "1  {TV,Internet,\"Wireless Internet\",\"Air Conditio...                  nan   \n",
       "\n",
       "     price weekly_price monthly_price security_deposit cleaning_fee  \\\n",
       "0  $250.00          NaN           NaN              NaN       $35.00   \n",
       "1   $65.00      $400.00           NaN           $95.00       $10.00   \n",
       "\n",
       "   guests_included extra_people  minimum_nights  maximum_nights  \\\n",
       "0                1        $0.00               2            1125   \n",
       "1                0        $0.00               2              15   \n",
       "\n",
       "  calendar_updated     has_availability  availability_30  availability_60  \\\n",
       "0      2 weeks ago                  nan                0                0   \n",
       "1       a week ago                  nan               26               54   \n",
       "\n",
       "   availability_90  availability_365 calendar_last_scraped  number_of_reviews  \\\n",
       "0                0                 0            2016-09-06                  0   \n",
       "1               84               359            2016-09-06                 36   \n",
       "\n",
       "  first_review last_review  review_scores_rating  review_scores_accuracy  \\\n",
       "0          NaN         NaN                   nan                     nan   \n",
       "1   2014-06-01  2016-08-13                94.000                  10.000   \n",
       "\n",
       "   review_scores_cleanliness  review_scores_checkin  \\\n",
       "0                        nan                    nan   \n",
       "1                      9.000                 10.000   \n",
       "\n",
       "   review_scores_communication  review_scores_location  review_scores_value  \\\n",
       "0                          nan                     nan                  nan   \n",
       "1                       10.000                   9.000                9.000   \n",
       "\n",
       "  requires_license              license   jurisdiction_names instant_bookable  \\\n",
       "0                f                  nan                  nan                f   \n",
       "1                f                  nan                  nan                t   \n",
       "\n",
       "  cancellation_policy require_guest_profile_picture  \\\n",
       "0            moderate                             f   \n",
       "1            moderate                             f   \n",
       "\n",
       "  require_guest_phone_verification  calculated_host_listings_count  \\\n",
       "0                                f                               1   \n",
       "1                                f                               1   \n",
       "\n",
       "     reviews_per_month  \n",
       "0                  nan  \n",
       "1                1.300  "
      ]
     },
     "execution_count": 4,
     "metadata": {},
     "output_type": "execute_result"
    }
   ],
   "source": [
    "listings.head(2)"
   ]
  },
  {
   "cell_type": "code",
   "execution_count": 5,
   "metadata": {},
   "outputs": [
    {
     "data": {
      "text/html": [
       "<div>\n",
       "<style scoped>\n",
       "    .dataframe tbody tr th:only-of-type {\n",
       "        vertical-align: middle;\n",
       "    }\n",
       "\n",
       "    .dataframe tbody tr th {\n",
       "        vertical-align: top;\n",
       "    }\n",
       "\n",
       "    .dataframe thead th {\n",
       "        text-align: right;\n",
       "    }\n",
       "</style>\n",
       "<table border=\"1\" class=\"dataframe\">\n",
       "  <thead>\n",
       "    <tr style=\"text-align: right;\">\n",
       "      <th></th>\n",
       "      <th>listing_id</th>\n",
       "      <th>date</th>\n",
       "      <th>available</th>\n",
       "      <th>price</th>\n",
       "    </tr>\n",
       "  </thead>\n",
       "  <tbody>\n",
       "    <tr>\n",
       "      <th>0</th>\n",
       "      <td>12147973</td>\n",
       "      <td>2017-09-05</td>\n",
       "      <td>f</td>\n",
       "      <td>NaN</td>\n",
       "    </tr>\n",
       "    <tr>\n",
       "      <th>1</th>\n",
       "      <td>12147973</td>\n",
       "      <td>2017-09-04</td>\n",
       "      <td>f</td>\n",
       "      <td>NaN</td>\n",
       "    </tr>\n",
       "  </tbody>\n",
       "</table>\n",
       "</div>"
      ],
      "text/plain": [
       "   listing_id        date available price\n",
       "0    12147973  2017-09-05         f   NaN\n",
       "1    12147973  2017-09-04         f   NaN"
      ]
     },
     "execution_count": 5,
     "metadata": {},
     "output_type": "execute_result"
    }
   ],
   "source": [
    "calendar.head(2)"
   ]
  },
  {
   "cell_type": "code",
   "execution_count": 6,
   "metadata": {},
   "outputs": [
    {
     "data": {
      "text/html": [
       "<div>\n",
       "<style scoped>\n",
       "    .dataframe tbody tr th:only-of-type {\n",
       "        vertical-align: middle;\n",
       "    }\n",
       "\n",
       "    .dataframe tbody tr th {\n",
       "        vertical-align: top;\n",
       "    }\n",
       "\n",
       "    .dataframe thead th {\n",
       "        text-align: right;\n",
       "    }\n",
       "</style>\n",
       "<table border=\"1\" class=\"dataframe\">\n",
       "  <thead>\n",
       "    <tr style=\"text-align: right;\">\n",
       "      <th></th>\n",
       "      <th>listing_id</th>\n",
       "      <th>id</th>\n",
       "      <th>date</th>\n",
       "      <th>reviewer_id</th>\n",
       "      <th>reviewer_name</th>\n",
       "      <th>comments</th>\n",
       "    </tr>\n",
       "  </thead>\n",
       "  <tbody>\n",
       "    <tr>\n",
       "      <th>0</th>\n",
       "      <td>1178162</td>\n",
       "      <td>4724140</td>\n",
       "      <td>2013-05-21</td>\n",
       "      <td>4298113</td>\n",
       "      <td>Olivier</td>\n",
       "      <td>My stay at islam's place was really cool! Good...</td>\n",
       "    </tr>\n",
       "    <tr>\n",
       "      <th>1</th>\n",
       "      <td>1178162</td>\n",
       "      <td>4869189</td>\n",
       "      <td>2013-05-29</td>\n",
       "      <td>6452964</td>\n",
       "      <td>Charlotte</td>\n",
       "      <td>Great location for both airport and city - gre...</td>\n",
       "    </tr>\n",
       "  </tbody>\n",
       "</table>\n",
       "</div>"
      ],
      "text/plain": [
       "   listing_id       id        date  reviewer_id reviewer_name  \\\n",
       "0     1178162  4724140  2013-05-21      4298113       Olivier   \n",
       "1     1178162  4869189  2013-05-29      6452964     Charlotte   \n",
       "\n",
       "                                            comments  \n",
       "0  My stay at islam's place was really cool! Good...  \n",
       "1  Great location for both airport and city - gre...  "
      ]
     },
     "execution_count": 6,
     "metadata": {},
     "output_type": "execute_result"
    }
   ],
   "source": [
    "reviews.head(2)"
   ]
  },
  {
   "cell_type": "markdown",
   "metadata": {},
   "source": [
    "<p>After further review of each CSV file I notice that the most useful one for our task its the listing one. This \n",
    "file contains information about the listing itself, including price information</p>"
   ]
  },
  {
   "cell_type": "markdown",
   "metadata": {},
   "source": [
    "## Clean and explore the data"
   ]
  },
  {
   "cell_type": "markdown",
   "metadata": {},
   "source": [
    "Now lets look at each CSV closer.  Lets examine the shape of each one and how what its the percentage of missing data\n",
    "per columns"
   ]
  },
  {
   "cell_type": "code",
   "execution_count": 7,
   "metadata": {},
   "outputs": [],
   "source": [
    "def summary(data):\n",
    "    \"\"\" Provides a summary of the dataset\n",
    "    It prints the shape of the dataset and the percentage of missing values for each column.\n",
    "    \n",
    "    Parameters:\n",
    "    data (DF): FataFrame to be summarized\n",
    "\n",
    "    Returns:\n",
    "    two print statments\n",
    "    \"\"\"\n",
    "    print('Shape: {}'.format(data.shape))\n",
    "    print((data.isnull().sum()[data.isnull().sum()>0]/data.shape[0])*100)"
   ]
  },
  {
   "cell_type": "code",
   "execution_count": 8,
   "metadata": {},
   "outputs": [
    {
     "name": "stdout",
     "output_type": "stream",
     "text": [
      "Shape: (1308890, 4)\n",
      "price                 50.872\n",
      "dtype: float64\n"
     ]
    }
   ],
   "source": [
    "summary(calendar)"
   ]
  },
  {
   "cell_type": "code",
   "execution_count": 9,
   "metadata": {},
   "outputs": [
    {
     "name": "stdout",
     "output_type": "stream",
     "text": [
      "Shape: (3585, 95)\n",
      "summary                                       3.989\n",
      "space                                        29.484\n",
      "neighborhood_overview                        39.470\n",
      "notes                                        55.091\n",
      "transit                                      35.983\n",
      "access                                       41.534\n",
      "interaction                                  43.347\n",
      "house_rules                                  33.250\n",
      "thumbnail_url                                16.709\n",
      "medium_url                                   16.709\n",
      "xl_picture_url                               16.709\n",
      "host_location                                 0.307\n",
      "host_about                                   36.513\n",
      "host_response_time                           13.138\n",
      "host_response_rate                           13.138\n",
      "host_acceptance_rate                         13.138\n",
      "host_neighbourhood                            9.456\n",
      "neighbourhood                                15.146\n",
      "neighbourhood_group_cleansed                100.000\n",
      "city                                          0.056\n",
      "zipcode                                       1.060\n",
      "market                                        0.391\n",
      "property_type                                 0.084\n",
      "bathrooms                                     0.391\n",
      "bedrooms                                      0.279\n",
      "beds                                          0.251\n",
      "square_feet                                  98.438\n",
      "weekly_price                                 75.119\n",
      "monthly_price                                75.230\n",
      "security_deposit                             62.566\n",
      "cleaning_fee                                 30.879\n",
      "has_availability                            100.000\n",
      "first_review                                 21.088\n",
      "last_review                                  21.088\n",
      "review_scores_rating                         22.678\n",
      "review_scores_accuracy                       22.957\n",
      "review_scores_cleanliness                    22.817\n",
      "review_scores_checkin                        22.873\n",
      "review_scores_communication                  22.817\n",
      "review_scores_location                       22.929\n",
      "review_scores_value                          22.901\n",
      "license                                     100.000\n",
      "jurisdiction_names                          100.000\n",
      "reviews_per_month                            21.088\n",
      "dtype: float64\n"
     ]
    }
   ],
   "source": [
    "summary(listings)"
   ]
  },
  {
   "cell_type": "code",
   "execution_count": 10,
   "metadata": {},
   "outputs": [
    {
     "name": "stdout",
     "output_type": "stream",
     "text": [
      "Shape: (68275, 6)\n",
      "comments                  0.078\n",
      "dtype: float64\n"
     ]
    }
   ],
   "source": [
    "summary(reviews)"
   ]
  },
  {
   "cell_type": "markdown",
   "metadata": {},
   "source": [
    "After further reviewing the listing CSV I identified the most useful features for us to answer or price related questions.\n",
    "The features are the following:\n",
    "\n",
    "- reviews_per_month: The number of reviews the listing has per month\n",
    "    \n",
    "- host_acceptance_rate: The rate of booking acceptance\n",
    "    \n",
    "- accommodates: The number of guests that can be accommodated in the property\n",
    "    \n",
    "- bathrooms: The number of bathrooms in the property\n",
    "    \n",
    "- bedrooms: The number of bedrooms in the property\n",
    "    \n",
    "- beds: The number of beds in the property\n",
    "    \n",
    "- price: The price per night for the booking\n",
    "    \n",
    "- host_response_rate: The responsiveness of the host, in hours or days\n",
    "    \n",
    "- zipcode: The zip code where the property is located\n",
    "    \n",
    "- property_type: The property type (House, apartment, etc)\n",
    "    \n",
    "- room_type: The room type (private room, entire house/apartment, shared room)\n",
    "    \n",
    "- neighbourhood_cleansed: The neighborhood where the property is located\n",
    "    \n",
    "- minimum_nights: The minimum nights that needed to complete the booking\n",
    "\n",
    "These are also the columns with the least missing values. \n",
    "\n",
    "I notice that the price columns values are strings. We will have to convert them to floats in order to continue\n",
    "with the analysis. I have created a function that gets rid of the '$' sign and converts the number to a float.\n",
    "The columns that hold percentages have the same problem. The values are expressed as strings. I wrote a different function that changes this percentage to a float.\n",
    "\n",
    "To ensure that all the zip code column values are 5 digits long I create a function that takes care of this and also coverts the values to integers."
   ]
  },
  {
   "cell_type": "code",
   "execution_count": 11,
   "metadata": {},
   "outputs": [],
   "source": [
    "# lets clean data\n",
    "\n",
    "columns_to_keep = ['id', 'host_response_time', 'host_response_rate', 'host_acceptance_rate', 'host_is_superhost',\n",
    "                    'neighbourhood_cleansed', 'zipcode', 'latitude', 'longitude', 'property_type', 'room_type',\n",
    "                   'accommodates', 'bathrooms', 'bedrooms', 'beds', 'price', 'minimum_nights', 'reviews_per_month']\n",
    "\n",
    "new_listings = listings[columns_to_keep].copy()\n",
    "def clean_prices(x):\n",
    "    \"\"\"Cleans the price colums\n",
    "    transform data from $2,000 to 2000\n",
    "    \n",
    "\n",
    "    \"\"\"\n",
    "    x = float(x[1:].replace(',',''))\n",
    "    return x\n",
    "\n",
    "\n",
    "def clean_percentages(x):\n",
    "    \"\"\" cleans the percentages columns\n",
    "    transforms data from 20% to 0.20\n",
    "    \"\"\"\n",
    "    x = float(x[:-1])/100\n",
    "    return x\n",
    "\n",
    "\n",
    "    \n",
    "def clean_zipcode(x):\n",
    "    \"\"\"cleans the zip code columns\n",
    "    Makes sures each zip code only has 5 digets and converts it to a interger\n",
    "    \"\"\"\n",
    "    x = x[:5]\n",
    "    return int(x)"
   ]
  },
  {
   "cell_type": "markdown",
   "metadata": {},
   "source": [
    "The reason I have decided to keep those columns is because the are provavly the most relevant for the analysis and these features have a low percentage of missing values compared to other features"
   ]
  },
  {
   "cell_type": "markdown",
   "metadata": {},
   "source": [
    "Here we can see that most columns in the slice dataframe have less than 500 missing values.  The column that has the most missing values is 'reviews_per_month'. Unfortunatly I feel that this feature would highly corretaly with price so for this analysis its not worth getting rid of this feature.\n",
    "\n",
    "Since the total amount of missing values is not that high (per column) I will drop of all these missing values. "
   ]
  },
  {
   "cell_type": "code",
   "execution_count": 12,
   "metadata": {},
   "outputs": [
    {
     "name": "stdout",
     "output_type": "stream",
     "text": [
      "(3585, 18)\n"
     ]
    },
    {
     "data": {
      "text/plain": [
       "host_response_time      471\n",
       "host_response_rate      471\n",
       "host_acceptance_rate    471\n",
       "zipcode                  38\n",
       "property_type             3\n",
       "bathrooms                14\n",
       "bedrooms                 10\n",
       "beds                      9\n",
       "reviews_per_month       756\n",
       "dtype: int64"
      ]
     },
     "execution_count": 12,
     "metadata": {},
     "output_type": "execute_result"
    }
   ],
   "source": [
    "print(new_listings.shape)\n",
    "new_listings.isnull().sum()[new_listings.isnull().sum()>0]"
   ]
  },
  {
   "cell_type": "code",
   "execution_count": 13,
   "metadata": {},
   "outputs": [
    {
     "data": {
      "text/plain": [
       "(2546, 18)"
      ]
     },
     "execution_count": 13,
     "metadata": {},
     "output_type": "execute_result"
    }
   ],
   "source": [
    "new_listings = new_listings.dropna()\n",
    "new_listings.shape"
   ]
  },
  {
   "cell_type": "markdown",
   "metadata": {},
   "source": [
    "### Apply cleaning functions to the data "
   ]
  },
  {
   "cell_type": "code",
   "execution_count": 14,
   "metadata": {},
   "outputs": [],
   "source": [
    "new_listings['zipcode'] = new_listings['zipcode'].apply(lambda x: clean_zipcode(x))\n",
    "new_listings['price'] = new_listings['price'].apply(lambda x: clean_prices(x))\n",
    "new_listings['host_response_rate'] = new_listings['host_response_rate'].apply(lambda x: clean_percentages(x))\n",
    "new_listings['host_acceptance_rate'] = new_listings['host_acceptance_rate'].apply(lambda x: clean_percentages(x))"
   ]
  },
  {
   "cell_type": "markdown",
   "metadata": {},
   "source": [
    "### Enconde the data"
   ]
  },
  {
   "cell_type": "markdown",
   "metadata": {},
   "source": [
    "There are quite a few categorical features, since we will not be doing any machine learning we wil not have to create dummy valiables for these features. But we will want to turn these values into numbers rather than the current values.\n",
    "\n",
    "I will use the replace function to get this done.  In this case we do not need to create the dummy variables because we are only categorizing these values. So one value having a higher higher number than the other will not affect anything. "
   ]
  },
  {
   "cell_type": "code",
   "execution_count": 15,
   "metadata": {},
   "outputs": [],
   "source": [
    "new_listings.replace({'within an hour': 0,\n",
    "                         'within a few hours': 1,\n",
    "                         'within a day': 2,\n",
    "                         'a few days or more': 3}, inplace=True)\n",
    "\n",
    "new_listings.replace({'Entire home/apt': 0, \n",
    "                       'Shared room':1, \n",
    "                       'Private room':2}, inplace=True)\n",
    "\n",
    "new_listings.replace({'Apartment':0,\n",
    " 'Bed & Breakfast':1,\n",
    " 'Boat':2,\n",
    " 'Condominium':3,\n",
    " 'Dorm':4,\n",
    " 'Entire Floor':5,\n",
    " 'Guesthouse':6,\n",
    " 'House':7,\n",
    " 'Loft':8,\n",
    " 'Other':9,\n",
    " 'Townhouse':10,\n",
    " 'Villa':11}, inplace=True)\n",
    "\n",
    "new_listings.replace({'Allston':0,\n",
    " 'Back Bay':1,\n",
    " 'Bay Village':2,\n",
    " 'Beacon Hill':3,\n",
    " 'Brighton':4,\n",
    " 'Charlestown':5,\n",
    " 'Chinatown':6,\n",
    " 'Dorchester':7,\n",
    " 'Downtown':8,\n",
    " 'East Boston':9,\n",
    " 'Fenway':10,\n",
    " 'Hyde Park':11,\n",
    " 'Jamaica Plain':12,\n",
    " 'Leather District':13,\n",
    " 'Longwood Medical Area':14,\n",
    " 'Mattapan':15,\n",
    " 'Mission Hill':16,\n",
    " 'North End':17,\n",
    " 'Roslindale':18,\n",
    " 'Roxbury':19,\n",
    " 'South Boston':20,\n",
    " 'South Boston Waterfront':21,\n",
    " 'South End':22,\n",
    " 'West End':23,\n",
    " 'West Roxbury':24},inplace=True)"
   ]
  },
  {
   "cell_type": "code",
   "execution_count": 16,
   "metadata": {},
   "outputs": [
    {
     "data": {
      "text/html": [
       "<div>\n",
       "<style scoped>\n",
       "    .dataframe tbody tr th:only-of-type {\n",
       "        vertical-align: middle;\n",
       "    }\n",
       "\n",
       "    .dataframe tbody tr th {\n",
       "        vertical-align: top;\n",
       "    }\n",
       "\n",
       "    .dataframe thead th {\n",
       "        text-align: right;\n",
       "    }\n",
       "</style>\n",
       "<table border=\"1\" class=\"dataframe\">\n",
       "  <thead>\n",
       "    <tr style=\"text-align: right;\">\n",
       "      <th></th>\n",
       "      <th>id</th>\n",
       "      <th>host_response_time</th>\n",
       "      <th>host_response_rate</th>\n",
       "      <th>host_acceptance_rate</th>\n",
       "      <th>host_is_superhost</th>\n",
       "      <th>neighbourhood_cleansed</th>\n",
       "      <th>zipcode</th>\n",
       "      <th>latitude</th>\n",
       "      <th>longitude</th>\n",
       "      <th>property_type</th>\n",
       "      <th>room_type</th>\n",
       "      <th>accommodates</th>\n",
       "      <th>bathrooms</th>\n",
       "      <th>bedrooms</th>\n",
       "      <th>beds</th>\n",
       "      <th>price</th>\n",
       "      <th>minimum_nights</th>\n",
       "      <th>reviews_per_month</th>\n",
       "    </tr>\n",
       "  </thead>\n",
       "  <tbody>\n",
       "    <tr>\n",
       "      <th>1</th>\n",
       "      <td>3075044</td>\n",
       "      <td>0</td>\n",
       "      <td>1.000</td>\n",
       "      <td>1.000</td>\n",
       "      <td>f</td>\n",
       "      <td>18</td>\n",
       "      <td>2131</td>\n",
       "      <td>42.286</td>\n",
       "      <td>-71.134</td>\n",
       "      <td>0</td>\n",
       "      <td>2</td>\n",
       "      <td>2</td>\n",
       "      <td>1.000</td>\n",
       "      <td>1.000</td>\n",
       "      <td>1.000</td>\n",
       "      <td>65.000</td>\n",
       "      <td>2</td>\n",
       "      <td>1.300</td>\n",
       "    </tr>\n",
       "    <tr>\n",
       "      <th>2</th>\n",
       "      <td>6976</td>\n",
       "      <td>1</td>\n",
       "      <td>1.000</td>\n",
       "      <td>0.880</td>\n",
       "      <td>t</td>\n",
       "      <td>18</td>\n",
       "      <td>2131</td>\n",
       "      <td>42.292</td>\n",
       "      <td>-71.136</td>\n",
       "      <td>0</td>\n",
       "      <td>2</td>\n",
       "      <td>2</td>\n",
       "      <td>1.000</td>\n",
       "      <td>1.000</td>\n",
       "      <td>1.000</td>\n",
       "      <td>65.000</td>\n",
       "      <td>3</td>\n",
       "      <td>0.470</td>\n",
       "    </tr>\n",
       "    <tr>\n",
       "      <th>4</th>\n",
       "      <td>7651065</td>\n",
       "      <td>0</td>\n",
       "      <td>1.000</td>\n",
       "      <td>1.000</td>\n",
       "      <td>t</td>\n",
       "      <td>18</td>\n",
       "      <td>2131</td>\n",
       "      <td>42.285</td>\n",
       "      <td>-71.136</td>\n",
       "      <td>7</td>\n",
       "      <td>2</td>\n",
       "      <td>2</td>\n",
       "      <td>1.500</td>\n",
       "      <td>1.000</td>\n",
       "      <td>2.000</td>\n",
       "      <td>79.000</td>\n",
       "      <td>2</td>\n",
       "      <td>2.250</td>\n",
       "    </tr>\n",
       "    <tr>\n",
       "      <th>5</th>\n",
       "      <td>12386020</td>\n",
       "      <td>1</td>\n",
       "      <td>1.000</td>\n",
       "      <td>0.950</td>\n",
       "      <td>t</td>\n",
       "      <td>18</td>\n",
       "      <td>2131</td>\n",
       "      <td>42.292</td>\n",
       "      <td>-71.132</td>\n",
       "      <td>3</td>\n",
       "      <td>2</td>\n",
       "      <td>2</td>\n",
       "      <td>1.000</td>\n",
       "      <td>1.000</td>\n",
       "      <td>1.000</td>\n",
       "      <td>75.000</td>\n",
       "      <td>2</td>\n",
       "      <td>1.700</td>\n",
       "    </tr>\n",
       "    <tr>\n",
       "      <th>6</th>\n",
       "      <td>5706985</td>\n",
       "      <td>0</td>\n",
       "      <td>0.980</td>\n",
       "      <td>0.960</td>\n",
       "      <td>f</td>\n",
       "      <td>18</td>\n",
       "      <td>2131</td>\n",
       "      <td>42.281</td>\n",
       "      <td>-71.131</td>\n",
       "      <td>0</td>\n",
       "      <td>0</td>\n",
       "      <td>3</td>\n",
       "      <td>1.000</td>\n",
       "      <td>1.000</td>\n",
       "      <td>2.000</td>\n",
       "      <td>100.000</td>\n",
       "      <td>1</td>\n",
       "      <td>4.000</td>\n",
       "    </tr>\n",
       "  </tbody>\n",
       "</table>\n",
       "</div>"
      ],
      "text/plain": [
       "         id  host_response_time   host_response_rate  host_acceptance_rate  \\\n",
       "1   3075044                   0                1.000                 1.000   \n",
       "2      6976                   1                1.000                 0.880   \n",
       "4   7651065                   0                1.000                 1.000   \n",
       "5  12386020                   1                1.000                 0.950   \n",
       "6   5706985                   0                0.980                 0.960   \n",
       "\n",
       "  host_is_superhost  neighbourhood_cleansed  zipcode             latitude  \\\n",
       "1                 f                      18     2131               42.286   \n",
       "2                 t                      18     2131               42.292   \n",
       "4                 t                      18     2131               42.285   \n",
       "5                 t                      18     2131               42.292   \n",
       "6                 f                      18     2131               42.281   \n",
       "\n",
       "             longitude  property_type  room_type  accommodates  \\\n",
       "1              -71.134              0          2             2   \n",
       "2              -71.136              0          2             2   \n",
       "4              -71.136              7          2             2   \n",
       "5              -71.132              3          2             2   \n",
       "6              -71.131              0          0             3   \n",
       "\n",
       "             bathrooms             bedrooms                 beds  \\\n",
       "1                1.000                1.000                1.000   \n",
       "2                1.000                1.000                1.000   \n",
       "4                1.500                1.000                2.000   \n",
       "5                1.000                1.000                1.000   \n",
       "6                1.000                1.000                2.000   \n",
       "\n",
       "                 price  minimum_nights    reviews_per_month  \n",
       "1               65.000               2                1.300  \n",
       "2               65.000               3                0.470  \n",
       "4               79.000               2                2.250  \n",
       "5               75.000               2                1.700  \n",
       "6              100.000               1                4.000  "
      ]
     },
     "execution_count": 16,
     "metadata": {},
     "output_type": "execute_result"
    }
   ],
   "source": [
    "new_listings.head()"
   ]
  },
  {
   "cell_type": "markdown",
   "metadata": {},
   "source": [
    "## Model and evaluate the data "
   ]
  },
  {
   "cell_type": "markdown",
   "metadata": {},
   "source": [
    "## Question 1 "
   ]
  },
  {
   "cell_type": "markdown",
   "metadata": {},
   "source": [
    "<p> What are the price distributions for each type of room?</p>"
   ]
  },
  {
   "cell_type": "code",
   "execution_count": 17,
   "metadata": {},
   "outputs": [
    {
     "data": {
      "image/png": "[encoded data removed]",
      "text/plain": [
       "<Figure size 432x288 with 1 Axes>"
      ]
     },
     "metadata": {
      "needs_background": "light"
     },
     "output_type": "display_data"
    }
   ],
   "source": [
    "new_listings['price'].hist(bins=100);\n",
    "plt.suptitle(\"Price for all listings\");   \n",
    "plt.xlabel('Price');\n",
    "plt.ylabel('Number of listings');\n"
   ]
  },
  {
   "cell_type": "markdown",
   "metadata": {},
   "source": [
    "The range for 'Price for all listings' goes from $20 to $1,300. This spread is huge and is mainly caused by a few outliers. So let's look at all the prices under $1,000."
   ]
  },
  {
   "cell_type": "code",
   "execution_count": 18,
   "metadata": {},
   "outputs": [
    {
     "data": {
      "image/png": "[encoded data removed]",
      "text/plain": [
       "<Figure size 432x288 with 1 Axes>"
      ]
     },
     "metadata": {
      "needs_background": "light"
     },
     "output_type": "display_data"
    }
   ],
   "source": [
    "new_listings[new_listings['price'] <1000].price.hist(bins=30);\n",
    "plt.suptitle(\"Price for all listings (under $1,000)\");   \n",
    "plt.xlabel('Price');\n",
    "plt.ylabel('Number of listings');\n"
   ]
  },
  {
   "cell_type": "markdown",
   "metadata": {},
   "source": [
    "The the bulk of all listings for 'Price for all listings (under $1,000) are in the $40 to $140 price range. \n",
    "\n"
   ]
  },
  {
   "cell_type": "code",
   "execution_count": 20,
   "metadata": {},
   "outputs": [],
   "source": [
    "room_types = list(set(new_listings['room_type']))"
   ]
  },
  {
   "cell_type": "code",
   "execution_count": 21,
   "metadata": {},
   "outputs": [
    {
     "data": {
      "image/png": "[encoded data removed]",
      "text/plain": [
       "<Figure size 432x288 with 1 Axes>"
      ]
     },
     "metadata": {
      "needs_background": "light"
     },
     "output_type": "display_data"
    }
   ],
   "source": [
    "new_listings[(new_listings['price'] <1000) & (new_listings['room_type'] == room_types[0])].price.hist(bins=30, alpha=0.5);                                                                                            \n",
    "plt.suptitle(\"Price for Entire home/apt (under $1,000)\");   \n",
    "plt.xlabel('Price');\n",
    "plt.ylabel('Number of listings');\n"
   ]
  },
  {
   "cell_type": "markdown",
   "metadata": {},
   "source": [
    "We can see that the bulk of all entire house/apt listings ranges from approximately $150 to $220."
   ]
  },
  {
   "cell_type": "code",
   "execution_count": 22,
   "metadata": {},
   "outputs": [
    {
     "data": {
      "image/png": "[encoded data removed]",
      "text/plain": [
       "<Figure size 432x288 with 1 Axes>"
      ]
     },
     "metadata": {
      "needs_background": "light"
     },
     "output_type": "display_data"
    }
   ],
   "source": [
    "new_listings[(new_listings['price'] <1000) & (new_listings['room_type'] == room_types[1])].price.hist(bins=30, alpha=0.5);\n",
    "plt.suptitle(\"Price for shared rooms (under $1,000)\");\n",
    "plt.xlabel('Price');\n",
    "plt.ylabel('Number of listings');\n",
    "\n",
    "\n"
   ]
  },
  {
   "cell_type": "markdown",
   "metadata": {},
   "source": [
    "We can see that the bulk of all shared room listings ranges from approximately $20 to $100."
   ]
  },
  {
   "cell_type": "code",
   "execution_count": 24,
   "metadata": {},
   "outputs": [
    {
     "data": {
      "image/png": "[encoded data removed]",
      "text/plain": [
       "<Figure size 432x288 with 1 Axes>"
      ]
     },
     "metadata": {
      "needs_background": "light"
     },
     "output_type": "display_data"
    }
   ],
   "source": [
    "new_listings[(new_listings['price'] <1000) & (new_listings['room_type'] == room_types[2])].price.hist(bins=30, alpha=0.5);\n",
    "plt.suptitle(\"Price for private rooms (under $1,000)\");\n",
    "plt.xlabel('Price');\n",
    "plt.ylabel('Number of listings');\n"
   ]
  },
  {
   "cell_type": "markdown",
   "metadata": {},
   "source": [
    "We can see that the bulk of all shared room listings ranges from approximately $60 to $80."
   ]
  },
  {
   "cell_type": "code",
   "execution_count": 25,
   "metadata": {},
   "outputs": [],
   "source": [
    "def roomType_price_ranges(df, room_type):\n",
    "    \"\"\"This funcion helps analyze the price for each room type\n",
    "    It out puets the highest price, the lowerst price and the difference between the highest and the lowerst price\n",
    "    \n",
    "    Parameters:\n",
    "    df (DF): Dataframe\n",
    "    \n",
    "\n",
    "    Returns:\n",
    "    int: Max price\n",
    "    int: Min price\n",
    "    int: price spread\n",
    "\n",
    "\n",
    "    \"\"\"\n",
    "    if room_type == 0:\n",
    "        df = df[df['room_type']==0]\n",
    "    elif room_type == 1:\n",
    "        df = df[df['room_type']==1]    \n",
    "    elif room_type == 2:\n",
    "        df = df[df['room_type']==2]\n",
    "    return df['price'].max(), df['price'].min(), df['price'].max()-df['price'].min()\n"
   ]
  },
  {
   "cell_type": "code",
   "execution_count": 26,
   "metadata": {},
   "outputs": [
    {
     "name": "stdout",
     "output_type": "stream",
     "text": [
      "Room Type: 0\n",
      "High:1,300.0\n",
      "Low:11.0\n",
      "Spread:1,289.0\n",
      "\n",
      "Room Type: 1\n",
      "High:500.0\n",
      "Low:22.0\n",
      "Spread:478.0\n",
      "\n",
      "Room Type: 2\n",
      "High:350.0\n",
      "Low:20.0\n",
      "Spread:330.0\n",
      "\n"
     ]
    }
   ],
   "source": [
    "for i in set(new_listings['room_type']):\n",
    "    high, low, spread = roomType_price_ranges(new_listings,i)\n",
    "    print('Room Type: {}'.format(i))\n",
    "    print('High:{:,}'.format(high))\n",
    "    print('Low:{:,}'.format(low))\n",
    "    print('Spread:{:,}\\n'.format(spread))\n",
    "    "
   ]
  },
  {
   "cell_type": "markdown",
   "metadata": {},
   "source": [
    "Here we have a small summary of all the prices distributions per room type"
   ]
  },
  {
   "cell_type": "markdown",
   "metadata": {},
   "source": [
    "<p>There is a share room that has a price of $750. Lets fin out in what neighbourhood this room is. </p>"
   ]
  },
  {
   "cell_type": "code",
   "execution_count": 27,
   "metadata": {},
   "outputs": [
    {
     "data": {
      "text/html": [
       "<div>\n",
       "<style scoped>\n",
       "    .dataframe tbody tr th:only-of-type {\n",
       "        vertical-align: middle;\n",
       "    }\n",
       "\n",
       "    .dataframe tbody tr th {\n",
       "        vertical-align: top;\n",
       "    }\n",
       "\n",
       "    .dataframe thead th {\n",
       "        text-align: right;\n",
       "    }\n",
       "</style>\n",
       "<table border=\"1\" class=\"dataframe\">\n",
       "  <thead>\n",
       "    <tr style=\"text-align: right;\">\n",
       "      <th></th>\n",
       "      <th>id</th>\n",
       "      <th>host_response_time</th>\n",
       "      <th>host_response_rate</th>\n",
       "      <th>host_acceptance_rate</th>\n",
       "      <th>host_is_superhost</th>\n",
       "      <th>neighbourhood_cleansed</th>\n",
       "      <th>zipcode</th>\n",
       "      <th>latitude</th>\n",
       "      <th>longitude</th>\n",
       "      <th>property_type</th>\n",
       "      <th>room_type</th>\n",
       "      <th>accommodates</th>\n",
       "      <th>bathrooms</th>\n",
       "      <th>bedrooms</th>\n",
       "      <th>beds</th>\n",
       "      <th>price</th>\n",
       "      <th>minimum_nights</th>\n",
       "      <th>reviews_per_month</th>\n",
       "    </tr>\n",
       "  </thead>\n",
       "  <tbody>\n",
       "  </tbody>\n",
       "</table>\n",
       "</div>"
      ],
      "text/plain": [
       "Empty DataFrame\n",
       "Columns: [id, host_response_time, host_response_rate, host_acceptance_rate, host_is_superhost, neighbourhood_cleansed, zipcode, latitude, longitude, property_type, room_type, accommodates, bathrooms, bedrooms, beds, price, minimum_nights, reviews_per_month]\n",
       "Index: []"
      ]
     },
     "execution_count": 27,
     "metadata": {},
     "output_type": "execute_result"
    }
   ],
   "source": [
    "new_listings[(new_listings['room_type']==1) & (new_listings['price']==750)]"
   ]
  },
  {
   "cell_type": "markdown",
   "metadata": {},
   "source": [
    "## Question 2 "
   ]
  },
  {
   "cell_type": "markdown",
   "metadata": {},
   "source": [
    "<p>What are the features that highly correlate to price?</p>"
   ]
  },
  {
   "cell_type": "code",
   "execution_count": 28,
   "metadata": {},
   "outputs": [
    {
     "data": {
      "text/plain": [
       "Text(0.5, 1.0, 'Reviews per month vs price')"
      ]
     },
     "execution_count": 28,
     "metadata": {},
     "output_type": "execute_result"
    },
    {
     "data": {
      "image/png": "[encoded data removed]",
      "text/plain": [
       "<Figure size 432x288 with 1 Axes>"
      ]
     },
     "metadata": {
      "needs_background": "light"
     },
     "output_type": "display_data"
    }
   ],
   "source": [
    "plt.scatter(new_listings['price'],new_listings['reviews_per_month'])\n",
    "plt.ylabel('Reviews per month')\n",
    "plt.xlabel('Listing price in $')\n",
    "plt.title('Reviews per month vs price')"
   ]
  },
  {
   "cell_type": "markdown",
   "metadata": {},
   "source": [
    "Originally I thought that reviews per month was going to be highly correlated to price. In the above groah we can see that my hypotesis is difficult to prove. Most of the data points fall under to 500 price.  To analyze this more in depth we will be looking at the pearson correlation of all the numerical features."
   ]
  },
  {
   "cell_type": "code",
   "execution_count": 29,
   "metadata": {},
   "outputs": [
    {
     "data": {
      "image/png": "[encoded data removed]",
      "text/plain": [
       "<Figure size 792x792 with 2 Axes>"
      ]
     },
     "metadata": {
      "needs_background": "light"
     },
     "output_type": "display_data"
    }
   ],
   "source": [
    "cols = ['reviews_per_month','host_acceptance_rate','accommodates',\n",
    "       'bathrooms','bedrooms','beds','price', 'host_response_rate','zipcode', 'property_type',\n",
    "       'room_type', 'neighbourhood_cleansed','minimum_nights']\n",
    "\n",
    "\n",
    "corrs = np.corrcoef(new_listings[cols].values.T)\n",
    "fig, ax = plt.subplots(figsize=(11,11))\n",
    "sns.set(font_scale=1)\n",
    "hm=sns.heatmap(corrs, cbar = True, annot=True, square = True, fmt = '.2f',\n",
    "              yticklabels = cols, xticklabels = cols)"
   ]
  },
  {
   "cell_type": "markdown",
   "metadata": {},
   "source": [
    "<p>The features that highly correlate with price are:</p>\n",
    "<ul>\n",
    "<li>Accomodates</le>\n",
    "<li>Bedrooms</li>\n",
    "<li>Beds</li>\n",
    "</ul>"
   ]
  },
  {
   "cell_type": "markdown",
   "metadata": {},
   "source": [
    "## Question 3 "
   ]
  },
  {
   "cell_type": "markdown",
   "metadata": {},
   "source": [
    "<p>What are the most expensive zipcodes in Boston?</p>"
   ]
  },
  {
   "cell_type": "code",
   "execution_count": 30,
   "metadata": {},
   "outputs": [
    {
     "data": {
      "text/plain": [
       "1022    2118\n",
       "Name: zipcode, dtype: int64"
      ]
     },
     "execution_count": 30,
     "metadata": {},
     "output_type": "execute_result"
    }
   ],
   "source": [
    "new_listings[(new_listings['price'] == 1300)].zipcode"
   ]
  },
  {
   "cell_type": "code",
   "execution_count": 31,
   "metadata": {},
   "outputs": [
    {
     "data": {
      "text/html": [
       "<div>\n",
       "<style scoped>\n",
       "    .dataframe tbody tr th:only-of-type {\n",
       "        vertical-align: middle;\n",
       "    }\n",
       "\n",
       "    .dataframe tbody tr th {\n",
       "        vertical-align: top;\n",
       "    }\n",
       "\n",
       "    .dataframe thead th {\n",
       "        text-align: right;\n",
       "    }\n",
       "</style>\n",
       "<table border=\"1\" class=\"dataframe\">\n",
       "  <thead>\n",
       "    <tr style=\"text-align: right;\">\n",
       "      <th></th>\n",
       "      <th>id</th>\n",
       "      <th>host_response_time</th>\n",
       "      <th>host_response_rate</th>\n",
       "      <th>host_acceptance_rate</th>\n",
       "      <th>host_is_superhost</th>\n",
       "      <th>neighbourhood_cleansed</th>\n",
       "      <th>zipcode</th>\n",
       "      <th>latitude</th>\n",
       "      <th>longitude</th>\n",
       "      <th>property_type</th>\n",
       "      <th>room_type</th>\n",
       "      <th>accommodates</th>\n",
       "      <th>bathrooms</th>\n",
       "      <th>bedrooms</th>\n",
       "      <th>beds</th>\n",
       "      <th>price</th>\n",
       "      <th>minimum_nights</th>\n",
       "      <th>reviews_per_month</th>\n",
       "    </tr>\n",
       "  </thead>\n",
       "  <tbody>\n",
       "    <tr>\n",
       "      <th>1022</th>\n",
       "      <td>8303267</td>\n",
       "      <td>1</td>\n",
       "      <td>1.000</td>\n",
       "      <td>0.830</td>\n",
       "      <td>t</td>\n",
       "      <td>22</td>\n",
       "      <td>2118</td>\n",
       "      <td>42.342</td>\n",
       "      <td>-71.075</td>\n",
       "      <td>7</td>\n",
       "      <td>0</td>\n",
       "      <td>8</td>\n",
       "      <td>4.500</td>\n",
       "      <td>5.000</td>\n",
       "      <td>6.000</td>\n",
       "      <td>1,300.000</td>\n",
       "      <td>5</td>\n",
       "      <td>0.750</td>\n",
       "    </tr>\n",
       "  </tbody>\n",
       "</table>\n",
       "</div>"
      ],
      "text/plain": [
       "           id  host_response_time   host_response_rate  host_acceptance_rate  \\\n",
       "1022  8303267                   1                1.000                 0.830   \n",
       "\n",
       "     host_is_superhost  neighbourhood_cleansed  zipcode             latitude  \\\n",
       "1022                 t                      22     2118               42.342   \n",
       "\n",
       "                longitude  property_type  room_type  accommodates  \\\n",
       "1022              -71.075              7          0             8   \n",
       "\n",
       "                bathrooms             bedrooms                 beds  \\\n",
       "1022                4.500                5.000                6.000   \n",
       "\n",
       "                    price  minimum_nights    reviews_per_month  \n",
       "1022            1,300.000               5                0.750  "
      ]
     },
     "execution_count": 31,
     "metadata": {},
     "output_type": "execute_result"
    }
   ],
   "source": [
    "new_listings[(new_listings['price'] == 1300)]"
   ]
  },
  {
   "cell_type": "code",
   "execution_count": 32,
   "metadata": {},
   "outputs": [
    {
     "data": {
      "text/plain": [
       "count              2,546.000\n",
       "mean                 167.381\n",
       "std                  111.203\n",
       "min                   11.000\n",
       "25%                   85.000\n",
       "50%                  146.500\n",
       "75%                  219.000\n",
       "max                1,300.000\n",
       "Name: price, dtype: float64"
      ]
     },
     "execution_count": 32,
     "metadata": {},
     "output_type": "execute_result"
    }
   ],
   "source": [
    "new_listings['price'].describe()"
   ]
  },
  {
   "cell_type": "code",
   "execution_count": 37,
   "metadata": {},
   "outputs": [
    {
     "name": "stdout",
     "output_type": "stream",
     "text": [
      "500.0\n"
     ]
    },
    {
     "data": {
      "text/plain": [
       "(38, 2)"
      ]
     },
     "execution_count": 37,
     "metadata": {},
     "output_type": "execute_result"
    }
   ],
   "source": [
    "mean = np.mean(new_listings['price'])\n",
    "percentile = np.percentile(new_listings['price'], 98)\n",
    "print(percentile)\n",
    "y = new_listings[(new_listings['price'] > percentile) ][['price', 'zipcode']]\n",
    "y.shape"
   ]
  },
  {
   "cell_type": "markdown",
   "metadata": {},
   "source": [
    "From the analysis above we can see that 98 percentile of the data falls under the 500 price mark. In othe words, only 38 listings have a price higher than 500. "
   ]
  },
  {
   "cell_type": "code",
   "execution_count": 36,
   "metadata": {},
   "outputs": [
    {
     "data": {
      "image/png": "[encoded data removed]",
      "text/plain": [
       "<Figure size 1080x720 with 1 Axes>"
      ]
     },
     "metadata": {},
     "output_type": "display_data"
    }
   ],
   "source": [
    "fig, ax = plt.subplots(figsize=(15,10))\n",
    "sns.boxenplot(y.zipcode, y.price);"
   ]
  },
  {
   "cell_type": "markdown",
   "metadata": {},
   "source": [
    "From the chart above we can see that zipcode 2118 is the one with the higest spread of price. So, this zip code happens to also be the one with the most expensive listings."
   ]
  },
  {
   "cell_type": "markdown",
   "metadata": {},
   "source": [
    "## Conclusion "
   ]
  },
  {
   "cell_type": "markdown",
   "metadata": {},
   "source": [
    "- The most expensive listing in the dataset is 1,300 per night\n",
    "- The zip code with the most expensive listing and also the one with the highest spread its 2118\n",
    "- The 3 features that have the highest correlation with price are: \n",
    "    \n",
    "    1)Accomodates\n",
    "    \n",
    "    2)Bedrooms \n",
    "    \n",
    "    3) Beds\n",
    "\n",
    "\n",
    "\n"
   ]
  },
  {
   "cell_type": "code",
   "execution_count": null,
   "metadata": {},
   "outputs": [],
   "source": []
  }
 ],
 "metadata": {
  "kernelspec": {
   "display_name": "Python 3",
   "language": "python",
   "name": "python3"
  },
  "language_info": {
   "codemirror_mode": {
    "name": "ipython",
    "version": 3
   },
   "file_extension": ".py",
   "mimetype": "text/x-python",
   "name": "python",
   "nbconvert_exporter": "python",
   "pygments_lexer": "ipython3",
   "version": "3.7.2"
  }
 },
 "nbformat": 4,
 "nbformat_minor": 2
}
